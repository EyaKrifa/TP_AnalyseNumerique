{
 "cells": [
  {
   "cell_type": "markdown",
   "metadata": {},
   "source": [
    "<img src=\"images/entete.PNG\" /> "
   ]
  },
  {
   "cell_type": "markdown",
   "metadata": {},
   "source": [
    "# <center style=\"color:#B40431\">Compte Rendu TP3:Intégration Numérique</center>\n"
   ]
  },
  {
   "cell_type": "markdown",
   "metadata": {},
   "source": [
    "### Le but de ce TP est de modeliser quelques mèthodes d'intégration numèrique avec une interface graphique interactive :\n",
    "**-Méthode des Réctangles Gauches**\n",
    "\n",
    "**-Méthode des Trapèzes**\n",
    "\n",
    "**-Méthode des Points Milieux**\n",
    "\n",
    "**-Méthode de Simpson**\n",
    "\n",
    "Comme le montre le gif ci dessous "
   ]
  },
  {
   "cell_type": "markdown",
   "metadata": {},
   "source": [
    "<img src=\"gif1.gif\" width=\"750\" align=\"center\">"
   ]
  },
  {
   "cell_type": "markdown",
   "metadata": {},
   "source": [
    "# <span style=\"color:#2F977B\">I.Partie théorique : "
   ]
  },
  {
   "cell_type": "markdown",
   "metadata": {},
   "source": [
    "Soit f : [a, b] → R une fonction continue. On cherche à calculer\n",
    "une valeur approchée de <img src=\"images/integ.PNG\" />\n",
    "Lorsqu’on connait une primitive de f (noté ici F) sur [a,b], on peut calculer directement I : <img src=\"images/calculinteg.PNG\" />\n",
    "\n",
    "**<span style=\"color:#FF5733 \">Problème:**\n",
    "\n",
    "En pratique, beaucoup de fonctions ne peuvent pas être intégrées par la technique simple :\n",
    " -soit parce qu'elles sont trop compliquées\n",
    " -soit tout simplement parce qu'elles n'ont pas de primitive qui puisse être exprimée avec des fonctions simples (par exemple:la fonction e−x2).\n",
    "\n",
    "    \n",
    "**<span style=\"color:#FF5733 \">Solution:**\n",
    "    \n",
    "Il faut alors recourir à des méthodes numériques.\n",
    "    \n",
    "Les méthodes d'integration numériques vont donner des résultats meilleurs et même tout à fait acceptables."
   ]
  },
  {
   "cell_type": "markdown",
   "metadata": {},
   "source": [
    "### <span style=\"color:#C70039\"> 1)Méthode des rectangles Gauches:\n",
    " la plupart des méthodes d'intégration numérique fonctionnent sur le même principe. On commence par couper le gros intervalle [a,b] en N plus petits intervalles [ai,ai+1], avec a1=a et aN+1=b. Puis, pour chaque intervalle [ai,ai+1].\n",
    "la méthode des rectangles à gauche : on approche l'integrale par <img src=\"images/rect.PNG\" /> \n",
    " Géométriquement, cela signifie qu'on approche l'intégrale de f par l'aire des rectangles hachurés en vert :\n",
    " <img src=\"images/rect1.PNG\" /> \n"
   ]
  },
  {
   "cell_type": "markdown",
   "metadata": {},
   "source": [
    "### <span style=\"color:#C70039\"> 2)Méthode de trapèzes :\n",
    "\n",
    "    "
   ]
  },
  {
   "cell_type": "markdown",
   "metadata": {},
   "source": [
    "Elle s'appelle la méthode du trapèze pour des raisons qui sont claires lorsqu'on regarde la figure en bas . Elle consiste à faire l'approximation: <img src=\"images/trap.png\" />\n",
    "Et elle conduit à la formule <img src=\"images/trap1.PNG\" />\n",
    "<img src=\"images/methtrap.PNG\" />"
   ]
  },
  {
   "cell_type": "markdown",
   "metadata": {},
   "source": [
    "### <span style=\"color:#C70039\"> 3)Méthode de points milieux :\n",
    " "
   ]
  },
  {
   "cell_type": "markdown",
   "metadata": {},
   "source": [
    "Cette méthode consiste à choisir le point milieu de chacun des sous-intervalles :\n",
    "    $$\\bar{Xi}=\\frac{Xi-1+Xi}{2}$$ et à faire l'approximation<img src=\"images/ptMilieu1.PNG\" />\n",
    "\n",
    "ce qui conduit à la formule <img src=\"images/ptMilieu2.png\"/>\n",
    "Cette méthode qui, pour des raisons évidentes s'appelle la méthode du point milieu, est illustrée en bas: <img src=\"images/ptMilieu3.PNG\"/>\n",
    "**--> Il est être clair que les deux méthodes vont donner le bon résultat pour des fonction qui varient linéairement.**"
   ]
  },
  {
   "cell_type": "markdown",
   "metadata": {},
   "source": [
    "### <span style=\"color:#C70039\"> 4)Méthode de Simpson :\n"
   ]
  },
  {
   "cell_type": "markdown",
   "metadata": {},
   "source": [
    " Cette méthode consiste à faire l'approximation de \n",
    " La valeur approchée de I par la méthode de Simpson est <img src=\"images/simp1.png\"/>\n",
    "Ce qui, géométriquement, correspond à approximer le graphe de la fonction au-dessus de chaque sous-intervalle par un arc de parabole qui passe par les points  $$(xi−1,f(xi−1)), (\\bar{xi},f(\\bar{xi})) et (xi,f(xi))$$\n",
    "ce qui conduit à la formule <img src=\"images/simp2.PNG\"/>\n",
    "\n",
    "<img src=\"images/simp3.PNG\"/>"
   ]
  },
  {
   "cell_type": "markdown",
   "metadata": {},
   "source": [
    "# <span style=\"color:#2F977B\">II.Partie Pratique : "
   ]
  },
  {
   "cell_type": "code",
   "execution_count": 1,
   "metadata": {},
   "outputs": [],
   "source": [
    "#conda install -c conda-forge ipympl"
   ]
  },
  {
   "cell_type": "code",
   "execution_count": 2,
   "metadata": {},
   "outputs": [],
   "source": [
    "import numpy as np\n",
    "from numpy import *\n",
    "import matplotlib.pyplot as plt\n",
    "%matplotlib widget\n",
    "import ipywidgets as widgets"
   ]
  },
  {
   "cell_type": "code",
   "execution_count": 3,
   "metadata": {},
   "outputs": [],
   "source": [
    "#f=lambda x:1/(1+x**2)"
   ]
  },
  {
   "cell_type": "markdown",
   "metadata": {},
   "source": [
    "### <span style=\"color:#C70039\"> 1)Code python : Méthode des rectangles Gauches:\n"
   ]
  },
  {
   "cell_type": "code",
   "execution_count": 4,
   "metadata": {},
   "outputs": [],
   "source": [
    "class RectangleG ( object ) :\n",
    "    def __init__ (self , a , b , n , f ) :\n",
    "        self.a = a\n",
    "        self.b = b\n",
    "        self.x = np.linspace( a , b , n+1 )\n",
    "        self.f = f\n",
    "        self.n = n\n",
    "    def integrate ( self , f ) :\n",
    "        x= self.x\n",
    "        y= f( x )\n",
    "        h = float( x[1] - x[0] )\n",
    "        s = sum( y[ 0 : -1 ] )\n",
    "        return h * s\n",
    "    def Graph ( self , f , resolution =1001 ) :\n",
    "        xl = self.x\n",
    "        yl = f(xl)\n",
    "        xlist_fine =np.linspace( self.a , self.b , resolution )\n",
    "        for i in range ( self.n ) :\n",
    "            x_rect = [xl[ i ] , xl[ i ] , xl[ i + 1 ] , xl[i+1] , xl[ i ] ] # abscisses des sommets\n",
    "            y_rect = [0 , yl[ i ] , yl[ i ] , 0 , 0 ] # ordonnees des sommets\n",
    "            plt.plot ( x_rect , y_rect , 'r' )\n",
    "        yflist_fine = f ( xlist_fine )\n",
    "        plt.plot ( xlist_fine , yflist_fine )\n",
    "        plt.plot(xl, yl,\"bo\")\n",
    "        plt.xlabel ( 'x' )\n",
    "        #plt.ylabel ( ' f ( x ) ' )\n",
    "        plt.title ( ' Méthode des RectanglesG' )\n",
    "        #plt.text( 0.5*( self.a+ self.b ) , f(self.b ) , 'I_{} ={:0.8f}'.format(self.n,self.integrate( f ) ) , fontsize =15)\n",
    "\n",
    "    "
   ]
  },
  {
   "cell_type": "code",
   "execution_count": 5,
   "metadata": {},
   "outputs": [],
   "source": [
    "#R=RectangleG(-1,1,5,f)"
   ]
  },
  {
   "cell_type": "code",
   "execution_count": 6,
   "metadata": {},
   "outputs": [],
   "source": [
    "#R.integrate(f)"
   ]
  },
  {
   "cell_type": "code",
   "execution_count": 7,
   "metadata": {},
   "outputs": [],
   "source": [
    "#R.Graph(f)"
   ]
  },
  {
   "cell_type": "markdown",
   "metadata": {},
   "source": [
    "### <span style=\"color:#C70039\"> 2)Code python : Méthode des Trapèzes:\n"
   ]
  },
  {
   "cell_type": "code",
   "execution_count": 8,
   "metadata": {},
   "outputs": [],
   "source": [
    "class Trapezoidal(object):\n",
    "    def __init__(self, a, b, n, f):\n",
    "        self.a = a\n",
    "        self.b = b\n",
    "        self.x = np.linspace(a, b, n+1)\n",
    "        self.f = f\n",
    "        self.n = n\n",
    "    def integrate(self,f):\n",
    "        x=self.x\n",
    "        y=f(x)\n",
    "        h = float(x[1] - x[0])\n",
    "        s = y[0] + y[-1] + 2.0*sum(y[1:-1])\n",
    "        return h * s / 2.0\n",
    "    def Graph(self,f,resolution=1001):\n",
    "        xl = self.x\n",
    "        yl = f(xl)\n",
    "        xlist_fine=np.linspace(self.a, self.b, resolution)\n",
    "        for i in range(self.n):\n",
    "            x_rect = [xl[i], xl[i], xl[i+1], xl[i+1], xl[i]] # abscisses des sommets\n",
    "            y_rect = [0   , yl[i], yl[i+1]  , 0     , 0   ] # ordonnees des sommets\n",
    "            plt.plot(x_rect, y_rect,\"m\")\n",
    "        yflist_fine = f(xlist_fine)\n",
    "        plt.plot(xlist_fine, yflist_fine)#plot de f(x)\n",
    "        plt.plot(xl, yl,\"cs\")#point support\n",
    "        plt.xlabel ( 'x' )\n",
    "        plt.ylabel ( ' f ( x ) ' )\n",
    "        plt.title ( ' Méthode des Trapèzes' )\n",
    "        #plt.text( 0.5*( self.a+ self.b ) , f(self.b ) , 'I_{} ={:0.8f}'.format(self.n,self.integrate( f ) ) , fontsize =15 )"
   ]
  },
  {
   "cell_type": "code",
   "execution_count": 9,
   "metadata": {},
   "outputs": [],
   "source": [
    "#=Trapezoidal(-1,1,5,f)"
   ]
  },
  {
   "cell_type": "code",
   "execution_count": 10,
   "metadata": {},
   "outputs": [],
   "source": [
    "#T.integrate(f)"
   ]
  },
  {
   "cell_type": "markdown",
   "metadata": {},
   "source": [
    "### <span style=\"color:#C70039\"> 3)Code python : Méthode des Points Milieu:\n",
    " "
   ]
  },
  {
   "cell_type": "code",
   "execution_count": 11,
   "metadata": {},
   "outputs": [],
   "source": [
    "class PointMilieu ( object ) :\n",
    "    def __init__ (self , a , b , n , f ) :\n",
    "        self.a = a\n",
    "        self.b = b\n",
    "        self.x = np.linspace( a , b , n+1 )\n",
    "        self.f = f\n",
    "        self.n = n   \n",
    "    def integrate ( self , f ) :\n",
    "        h = float(self.b-self.a)/(self.n)\n",
    "        sum1 = 0\n",
    "        for i in range(self.n):\n",
    "            sum1 += f(self.a + (i+1/2)*h)           \n",
    "        I = h*sum1\n",
    "        return I\n",
    "    def Graph ( self , f , resolution=1001 ) :\n",
    "        xl = self.x\n",
    "        yl = f(xl)\n",
    "        xlist_fine=np.linspace( self.a , self.b , resolution )\n",
    "        for i in range ( self.n ) :\n",
    "            mi=(xl[i]+xl[i+1])/2\n",
    "            x_rect = [xl[ i ] , xl[ i ] , xl[ i + 1 ] , xl[i+1] , xl[ i ] ] # abscisses des sommets\n",
    "            y_rect = [0 , f(mi) , f(mi) , 0 , 0 ] # ordonnees des sommets\n",
    "            plt.plot ( x_rect , y_rect , 'r' )\n",
    "            plt.plot(mi,f(mi),'b*')\n",
    "        yflist_fine=f(xlist_fine)\n",
    "        plt.plot (xlist_fine,yflist_fine )\n",
    "        plt.xlabel ( 'x' )\n",
    "        plt.ylabel ( 'f(x)' )\n",
    "        plt.title ( ' Méthode des points milieux' )\n",
    "        #plt.text( 0.5*( self.a+ self.b ) , f(self.b ) , 'I_{} ={:0.8f}'.format(self.n,self.integrate( f ) ) , fontsize =15 )"
   ]
  },
  {
   "cell_type": "markdown",
   "metadata": {},
   "source": [
    "### <span style=\"color:#C70039\"> 4)Code python : Méthode de Simpson:\n"
   ]
  },
  {
   "cell_type": "code",
   "execution_count": 12,
   "metadata": {},
   "outputs": [],
   "source": [
    "class Simpson ( object ) :\n",
    "    def __init__ (self , a , b , n , f ) :\n",
    "        self.a = a\n",
    "        self.b = b\n",
    "        self.x = np.linspace( a , b , n+1 )\n",
    "        self.f = f\n",
    "        self.n = n   \n",
    "    def integrate ( self , f ) :\n",
    "        x = self.x\n",
    "        y=f(x)\n",
    "        h=float(x[1]-x[0])\n",
    "        n=len(x)-1\n",
    "        if n%2==1:\n",
    "            n-=1\n",
    "        s = y[0] + y[n] + 4.0 * sum(y[1:-1:2]) + 2.0 * sum(y[2:-2:2])\n",
    "        return h*s/3.0\n",
    "    def Graph ( self , f , resolution=1001 ) :\n",
    "        xl = self.x\n",
    "        yl = f(xl)\n",
    "        xlist_fine=np.linspace( self.a , self.b , resolution )\n",
    "        for i in range ( self.n ) :\n",
    "            xx=np.linspace(xl[i],xl[i+1],resolution)\n",
    "            m=(xl[i]+xl[i+1])/2\n",
    "            aa=xl[i]\n",
    "            bb=xl[i+1]\n",
    "            l0=(xx-m)/(aa-m)*(xx-bb)/(aa-bb)\n",
    "            l1=(xx-aa)/(m-aa)*(xx-bb)/(m-bb)\n",
    "            l2=(xx-aa)/(bb-aa)*(xx-m)/(bb-m)\n",
    "            P=f(aa)*l0+f(m)*l1+f(bb)*l2\n",
    "            plt.plot(xx,P,'b')\n",
    "            plt.plot(m,f(m),\"r*\")\n",
    "    \n",
    "        yflist_fine=f(xlist_fine)\n",
    "        plt.plot (xlist_fine,yflist_fine,'g' )\n",
    "        plt.plot (xl,yl,'bo' )\n",
    "        plt.ylabel ( 'f(x)' )\n",
    "        plt.title ( ' Méthode de Simpson' )\n",
    "        #plt.text( 0.5*( self.a+ self.b ) , f(self.b ) , 'I_{} ={:0.8f}'.format(self.n,self.integrate( f ) ) , fontsize =15 )"
   ]
  },
  {
   "cell_type": "code",
   "execution_count": 13,
   "metadata": {},
   "outputs": [],
   "source": [
    "#g=lambda x:sqrt(x)"
   ]
  },
  {
   "cell_type": "code",
   "execution_count": 14,
   "metadata": {},
   "outputs": [],
   "source": [
    "#S=Simpson(0,1.65,3,g)"
   ]
  },
  {
   "cell_type": "code",
   "execution_count": 15,
   "metadata": {},
   "outputs": [],
   "source": [
    "#S.integrate(g)"
   ]
  },
  {
   "cell_type": "code",
   "execution_count": 16,
   "metadata": {},
   "outputs": [],
   "source": [
    "#S.Graph(g)"
   ]
  },
  {
   "cell_type": "code",
   "execution_count": 17,
   "metadata": {},
   "outputs": [],
   "source": [
    "#P.Graph(f)"
   ]
  },
  {
   "cell_type": "code",
   "execution_count": null,
   "metadata": {},
   "outputs": [],
   "source": [
    "# create some control elements\n",
    "text_func = widgets.Text(value='cos(x)', description='Fonction', continuous_update=False)\n",
    "text_xlabel = widgets.Text(value='', description='xlabel', continuous_update=False)\n",
    "text_ylabel = widgets.Text(value='', description='ylabel', continuous_update=False)\n",
    "text_a = widgets.Text(value='-1', description='a', continuous_update=False)\n",
    "text_b = widgets.Text(value='1', description='b', continuous_update=False)\n",
    "text_n= widgets.Text(value='3', description='n', continuous_update=False)\n",
    "text_methode = widgets.Text(value='Calcul des intégrales pour les 4 méthodes', disabled=True)\n",
    "text_int1=widgets.Text(value='', description='Rectangle.In ', continuous_update=False)\n",
    "text_int2=widgets.Text(value='', description='Trapèze.In  ', continuous_update=False)\n",
    "text_int3=widgets.Text(value='', description='PointMilieu.In  ', continuous_update=False)\n",
    "text_int4=widgets.Text(value='', description='Simpson.In  ', continuous_update=False)\n",
    "button=widgets.Button(description='Caluler')\n",
    "\n",
    "# callback functions\n",
    "def sim(b):\n",
    "    plt.clf()\n",
    "    func=lambda x:eval(text_func.value)\n",
    "    R=RectangleG(float(text_a.value),float(text_b.value),int(text_n.value),func)\n",
    "    T=Trapezoidal(float(text_a.value),float(text_b.value),int(text_n.value),func)\n",
    "    P=PointMilieu(float(text_a.value),float(text_b.value),int(text_n.value),func)\n",
    "    S=Simpson(float(text_a.value),float(text_b.value),int(text_n.value),func)\n",
    "\n",
    "    plt.subplots_adjust(hspace=0.4,wspace = 0.4)\n",
    "    plt.subplot(221)\n",
    "    T.Graph(func)\n",
    "    plt.subplot(222)\n",
    "    R.Graph(func)\n",
    "    plt.subplot(223)\n",
    "    P.Graph(func)\n",
    "    plt.subplot(224)\n",
    "    S.Graph(func)\n",
    "    text_int1.value=str(R.integrate(func))\n",
    "    text_int1.description='Rectangle.I'+text_n.value\n",
    "    text_int2.value=str(T.integrate(func))\n",
    "    text_int2.description='Trapèze.I'+text_n.value\n",
    "    text_int3.value=str(P.integrate(func))\n",
    "    text_int3.description='PointMilieu.I'+text_n.value\n",
    "    text_int4.value=str(S.integrate(func))\n",
    "    text_int4.description='Simpson.I'+text_n.value\n",
    "    \n",
    "def update_a(change):\n",
    "    change.new\n",
    "def update_b(change):\n",
    "    change.new\n",
    "def update_n(change):\n",
    "    change.new\n",
    "def update_f(change):\n",
    "    change.new\n",
    "    \n",
    "button.on_click(sim)\n",
    "text_func.observe(update_f,'value')\n",
    "text_a.observe(update_a,'value')\n",
    "text_b.observe(update_b,'value')\n",
    "text_n.observe(update_n,'value')\n",
    "\n"
   ]
  },
  {
   "cell_type": "code",
   "execution_count": null,
   "metadata": {},
   "outputs": [],
   "source": [
    "output = widgets.Output()\n",
    "with output:\n",
    "    fig,ax = plt.subplots(constrained_layout=True, figsize=(6,4.5))\n",
    "# move the toolbar to the bottom\n",
    "fig.canvas.toolbar_position = 'bottom'"
   ]
  },
  {
   "cell_type": "markdown",
   "metadata": {},
   "source": [
    "# <span style=\"color:#FF5733 \">Simulation"
   ]
  },
  {
   "cell_type": "code",
   "execution_count": null,
   "metadata": {},
   "outputs": [],
   "source": [
    "def make_boxes():\n",
    "    vbox1 = widgets.VBox([text_func,text_a,text_b,text_n,button,text_methode,text_int1,text_int2,text_int3,text_int4])\n",
    "    vbox2=widgets.VBox([output])\n",
    "    return vbox1,vbox2\n",
    "box_layout=widgets.Layout(\n",
    "    border='solid 2px purple' ,\n",
    "    margin='0px 20px 20px 0px',\n",
    "    padding='5px 5px 5px 5px')\n",
    "vbox1,vbox2=make_boxes()\n",
    "vbox1.layout = box_layout\n",
    "vbox2.layout = box_layout\n",
    "widgets.HBox([vbox1, vbox2])\n"
   ]
  },
  {
   "cell_type": "markdown",
   "metadata": {},
   "source": [
    "#  <span style=\"color:#FF5733 \">Interprétation :"
   ]
  },
  {
   "cell_type": "markdown",
   "metadata": {},
   "source": [
    "**Si on  veut calculer la valeur de l'integrale $$\\int_0^2 sqrt(x)$$  \n",
    "En prenant une petite valeur den (nombre de subdivision) on constate que :**\n",
    "\n",
    "**<span style=\"color:#C70039\" >Pour la méthode de Simpson:</span>**\n",
    "**Dans cette cas où n est petite, elle n'est pas efficace mais si on augmente la valeur de n on constate que la valeur de l'intégrale se rapproche à la valeur réelle et l'erreur va diminuer**\n",
    "\n",
    "**-Par contre , si on compare cette méthode à <span style=\"color:#C70039\" > la méthode des Rectangles Gauches </span> on va remarquer que la valeur d'intégral va s'éloigner de la valeur réelle et la valeur d'erreur est plus beaucoup grande que celle de Simpson**\n",
    "\n",
    "**<span style=\"color:#C70039\">Pour les méthodes des Trapèzes et Points milieux </span>les résultat sont accceptables avec un petit erreur.**\n",
    "\n",
    "\n",
    "**<span style=\"color:#C70039\" >On conclure , que la méthode de Simpson est la meilleure méthode pour le calcul d'integrale de la fonction f=sqrt(x) comme il est montré dans la figure ci dessous </span>**\n",
    "<img src=\"images/inter.PNG\"/>\n"
   ]
  },
  {
   "cell_type": "markdown",
   "metadata": {},
   "source": [
    "## <span style=\"color:#C70039\" > Conclusion :\n"
   ]
  },
  {
   "cell_type": "markdown",
   "metadata": {},
   "source": [
    "### Plus n est grande, plus l’erreur diminue vite et plus la méthode est efficace.\n"
   ]
  },
  {
   "cell_type": "code",
   "execution_count": null,
   "metadata": {},
   "outputs": [],
   "source": []
  }
 ],
 "metadata": {
  "kernelspec": {
   "display_name": "Python 3",
   "language": "python",
   "name": "python3"
  },
  "language_info": {
   "codemirror_mode": {
    "name": "ipython",
    "version": 3
   },
   "file_extension": ".py",
   "mimetype": "text/x-python",
   "name": "python",
   "nbconvert_exporter": "python",
   "pygments_lexer": "ipython3",
   "version": "3.8.3"
  }
 },
 "nbformat": 4,
 "nbformat_minor": 4
}
